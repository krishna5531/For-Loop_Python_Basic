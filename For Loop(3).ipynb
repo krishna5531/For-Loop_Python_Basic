{
 "cells": [
  {
   "cell_type": "markdown",
   "id": "32fd7472-50ba-4b9c-a83d-1e4746699d59",
   "metadata": {},
   "source": [
    "Basic Level:"
   ]
  },
  {
   "cell_type": "code",
   "execution_count": 1,
   "id": "45bdd41e-edb9-45e0-a67c-ba5bfc68a98c",
   "metadata": {},
   "outputs": [
    {
     "name": "stdout",
     "output_type": "stream",
     "text": [
      "1\n",
      "2\n",
      "3\n",
      "4\n",
      "5\n",
      "6\n",
      "7\n",
      "8\n",
      "9\n",
      "10\n"
     ]
    }
   ],
   "source": [
    "\"\"\" 1. Write a Python program to print the numbers from 1 to 10 using a `for` loop.\"\"\"\n",
    "for i in range(1,11):  #traverse the for loop from 1 to 11 because range function implements value as range(1,n-1)\n",
    "    print(i)\n"
   ]
  },
  {
   "cell_type": "code",
   "execution_count": 3,
   "id": "0a3f7fe8-5d3c-445f-a517-3c88fed5a67b",
   "metadata": {},
   "outputs": [
    {
     "name": "stdout",
     "output_type": "stream",
     "text": [
      "the summ of all numbers in list 73\n"
     ]
    }
   ],
   "source": [
    "\"\"\" 2. Create a program that calculates the sum of all numbers in a list using a `for` loop.\"\"\"\n",
    "#create the list \n",
    "l=[1,2,34,5,6,7,8,10]\n",
    "sum_numbers=0\n",
    "for i in l:  #traverse the for loop in list \n",
    "    sum_numbers+=i   #add elements of list and store in sum_numbers variable\n",
    "print(\"the summ of all numbers in list\",sum_numbers)\n"
   ]
  },
  {
   "cell_type": "code",
   "execution_count": 4,
   "id": "99559b1f-a97b-4fb5-895f-c98af30e37b4",
   "metadata": {},
   "outputs": [
    {
     "name": "stdout",
     "output_type": "stream",
     "text": [
      "d\n",
      "l\n",
      "r\n",
      "o\n",
      "w\n",
      " \n",
      "o\n",
      "l\n",
      "l\n",
      "e\n",
      "h\n"
     ]
    }
   ],
   "source": [
    "\"\"\" 3. Write a program to print the characters of a string in reverse order using a `for` loop.\"\"\"\n",
    "s=\"hello world\"\n",
    "length=len(s)-1  #need to do minus 1 becasue length counting start from 1 and indexing start with 0 ,hence if need to fetch string elements need to do minus 1 \n",
    "for i in s:\n",
    "    print(s[length]) #printing the reverse order of the string\n",
    "    length-=1\n"
   ]
  },
  {
   "cell_type": "code",
   "execution_count": 6,
   "id": "d60d294f-dc69-457a-92d0-e60babc208b3",
   "metadata": {},
   "outputs": [
    {
     "name": "stdin",
     "output_type": "stream",
     "text": [
      "enter the value of n  5\n"
     ]
    },
    {
     "name": "stdout",
     "output_type": "stream",
     "text": [
      "1\n",
      "2\n",
      "3\n",
      "5\n",
      "8\n"
     ]
    }
   ],
   "source": [
    "\"\"\" 4. Develop a program that finds the factorial of a given number using a `for` loop.\"\"\"\n",
    "n=int(input(\"enter the value of n \"))\n",
    "a,b=0,1\n",
    "for i in range(1,n+1): #traverse the loop from 1 to n using range() function\n",
    "    c=a+b    \n",
    "    print(c)\n",
    "    a,b=b,c\n",
    "      \n"
   ]
  },
  {
   "cell_type": "code",
   "execution_count": 10,
   "id": "6cee0b5e-54c4-47b9-a619-49ebcc029840",
   "metadata": {},
   "outputs": [
    {
     "name": "stdin",
     "output_type": "stream",
     "text": [
      "mention the number of table you want 10\n"
     ]
    },
    {
     "name": "stdout",
     "output_type": "stream",
     "text": [
      "10 * 1 = 10\n",
      "10 * 2 = 20\n",
      "10 * 3 = 30\n",
      "10 * 4 = 40\n",
      "10 * 5 = 50\n",
      "10 * 6 = 60\n",
      "10 * 7 = 70\n",
      "10 * 8 = 80\n",
      "10 * 9 = 90\n",
      "10 * 10 = 100\n"
     ]
    }
   ],
   "source": [
    "\"\"\" 5. Create a program to print the multiplication table of a given number using a `for` loop.\"\"\"\n",
    "n=int(input(\"mention the number of table you want\"))\n",
    "for i in range(1,11):\n",
    "    print(n ,\"*\" ,i ,\"=\",n*i) #place to format of table inside the print using comma "
   ]
  },
  {
   "cell_type": "code",
   "execution_count": 11,
   "id": "e733b71d-4ffe-4f20-8643-dbf195cd3557",
   "metadata": {},
   "outputs": [
    {
     "name": "stdout",
     "output_type": "stream",
     "text": [
      "the count of even number is  7\n",
      "the count of odd number is 5\n"
     ]
    }
   ],
   "source": [
    "\"\"\" 6. Write a program that counts the number of even and odd numbers in a list using a `for` loop.\"\"\"\n",
    "l=[12,3,34,5,56,4,367,43,7,8,58,324]\n",
    "even_count=0\n",
    "odd_count=0\n",
    "for i in l:\n",
    "    if(i%2==0):  #if number is (divisible by 2)even then increament 1 in even_count variable \n",
    "        even_count+=1\n",
    "    else:        #if number is odd(not divisible by 2) then increament 1 in odd_count variable \n",
    "        odd_count+=1\n",
    "print(\"the count of even number is \", even_count)\n",
    "print(\"the count of odd number is\", odd_count)\n"
   ]
  },
  {
   "cell_type": "code",
   "execution_count": 13,
   "id": "741dec46-6f63-4f96-8619-8936f8a8d960",
   "metadata": {},
   "outputs": [
    {
     "name": "stdout",
     "output_type": "stream",
     "text": [
      "squares of the numbers from 1 to 5\n",
      "1\n",
      "4\n",
      "9\n",
      "16\n",
      "25\n"
     ]
    }
   ],
   "source": [
    "\"\"\" 7. Develop a program that prints the squares of numbers from 1 to 5 using a `for` loop.\"\"\"\n",
    "print(\"squares of the numbers from 1 to 5\")\n",
    "for i in range(1,6):\n",
    "    print(i**2)\n"
   ]
  },
  {
   "cell_type": "code",
   "execution_count": 14,
   "id": "a02aae74-9231-4180-8202-909a6dfd53e9",
   "metadata": {},
   "outputs": [
    {
     "name": "stdout",
     "output_type": "stream",
     "text": [
      "length of the string without using len() function is  23\n"
     ]
    }
   ],
   "source": [
    "\"\"\" 8. Create a program to find the length of a string without using the `len()` function.\"\"\"\n",
    "s=\"hello world how are you\"\n",
    "length_string=0\n",
    "for i in s:  #traverse the loop and increament the value of length_string by 1\n",
    "    length_string+=1\n",
    "print(\"length of the string without using len() function is \", length_string)"
   ]
  },
  {
   "cell_type": "code",
   "execution_count": 16,
   "id": "b1df211f-d2be-42fd-a5da-8b4c68ea5b7a",
   "metadata": {},
   "outputs": [
    {
     "name": "stdout",
     "output_type": "stream",
     "text": [
      "the average of a list numbers is 23.428571428571427\n"
     ]
    }
   ],
   "source": [
    "\"\"\" 9. Write a program that calculates the average of a list of numbers using a `for` loop.\n",
    "\"\"\"\n",
    "l=[1,23,4,5,56,67,8]\n",
    "add=0\n",
    "for  i in l:\n",
    "    add+=i\n",
    "print(\"the average of a list numbers is\", add/len(l))"
   ]
  },
  {
   "cell_type": "code",
   "execution_count": 23,
   "id": "6edba8c7-a620-4c30-9c4f-165d253fbf5a",
   "metadata": {},
   "outputs": [
    {
     "name": "stdin",
     "output_type": "stream",
     "text": [
      "enter the value of n  10\n"
     ]
    },
    {
     "name": "stdout",
     "output_type": "stream",
     "text": [
      "0 \n",
      "1\n",
      "1\n",
      "2\n",
      "3\n",
      "5\n",
      "8\n",
      "13\n",
      "21\n",
      "34\n"
     ]
    }
   ],
   "source": [
    "\"\"\" 10. Develop a program that prints the first `n` Fibonacci numbers using a `for` loop.\n",
    "\"\"\"\n",
    "n=int(input(\"enter the value of n \"))\n",
    "a,b=0,1\n",
    "print(\"0 \\n1\")\n",
    "for i in range(1,n-1):  #traverse the loop from 1 to n-2 because first two number 0,1 is printed above\n",
    "    c=a+b\n",
    "    print( c)\n",
    "    a,b=b,c\n",
    "    "
   ]
  },
  {
   "cell_type": "markdown",
   "id": "ab54cbfa-4f53-4191-9dc7-339bd84014fd",
   "metadata": {},
   "source": [
    " Intermediate Level:"
   ]
  },
  {
   "cell_type": "code",
   "execution_count": 5,
   "id": "ad88ed2b-3697-4264-bff7-8aebe051d5ee",
   "metadata": {},
   "outputs": [
    {
     "name": "stdout",
     "output_type": "stream",
     "text": [
      "list has dupliacte value in the list\n"
     ]
    }
   ],
   "source": [
    "\"\"\" 11. Write a program to check if a given list contains any duplicates using a `for` loop.\n",
    "\"\"\"\n",
    "l=[1,2,3,4,2,6,7,3]\n",
    "length=len(l)\n",
    "for i in l:\n",
    "    index=l.index(i)\n",
    "    for j in range(index+1,length+1):  # comapre i and after all elements after i in the list , if the mathies then list has duplicate value \n",
    "        if(i==j):\n",
    "            a=1\n",
    "if(a):\n",
    "    print(\"list has dupliacte value in the list\")\n",
    "else:\n",
    "    print(\"list dosnt contain duplicate value in the list\")\n",
    "        \n",
    "    "
   ]
  },
  {
   "cell_type": "code",
   "execution_count": 14,
   "id": "508cb8cd-1799-4fe5-8426-46dd079e1b99",
   "metadata": {},
   "outputs": [
    {
     "name": "stdout",
     "output_type": "stream",
     "text": [
      "prime numbers from 1 to 10 is \n",
      "2\n",
      "3\n",
      "5\n",
      "7\n"
     ]
    }
   ],
   "source": [
    "\"\"\" 12. Create a program that prints the prime numbers in a given range using a `for` loop.\n",
    "\"\"\"\n",
    "#finding prime number using sieve eratosthenes algorithm \n",
    "not_prime=[]\n",
    "print(\"prime numbers from 1 to 10 is \")\n",
    "for i in range(2,11):\n",
    "    if (i not in not_prime):\n",
    "        print(i)\n",
    "    for j in range(i*i, 11 , i):\n",
    "        not_prime.append(j)"
   ]
  },
  {
   "cell_type": "code",
   "execution_count": 16,
   "id": "8c22cae1-3ef7-4002-ade0-6e7847614688",
   "metadata": {},
   "outputs": [
    {
     "name": "stdout",
     "output_type": "stream",
     "text": [
      "total number of vowels in the string is 9\n"
     ]
    }
   ],
   "source": [
    "\"\"\" 13. Develop a program that counts the number of vowels in a string using a `for` loop.\n",
    "\"\"\"\n",
    "s=\"hello student welcome to pwskills\"\n",
    "vowel=['a','e','i','o','u']\n",
    "vowel_count=0\n",
    "for i in s:\n",
    "    if i in vowel:  #check is character is present in vowel list then it is a vowel \n",
    "        vowel_count+=1\n",
    "print(\"total number of vowels in the string is\",vowel_count)\n"
   ]
  },
  {
   "cell_type": "code",
   "execution_count": 17,
   "id": "98ac5a24-48c2-43df-bdee-594848381f7f",
   "metadata": {},
   "outputs": [
    {
     "name": "stdout",
     "output_type": "stream",
     "text": [
      "maximum element in a 2D list is  89\n"
     ]
    }
   ],
   "source": [
    "\"\"\" 14. Write a program to find the maximum element in a 2D list using a nested `for` loop.\n",
    "\"\"\"\n",
    "l=[[1,2,3],\n",
    "   [2,3,4,],\n",
    "   [6,7,89]]\n",
    "maximum=0\n",
    "for i in l:  #traverse the nested loop\n",
    "    for j in i:\n",
    "        if(j>maximum):\n",
    "            maximum=j\n",
    "print(\"maximum element in a 2D list is \", maximum)"
   ]
  },
  {
   "cell_type": "code",
   "execution_count": 19,
   "id": "469d8c64-324d-49ee-9874-f2f964b287dd",
   "metadata": {},
   "outputs": [
    {
     "name": "stdout",
     "output_type": "stream",
     "text": [
      "after removing all the occurrnece of 2 from the list \n"
     ]
    },
    {
     "data": {
      "text/plain": [
       "[1, 3, 4, 5, 6, 7, 8, 9, 5, 6, 8]"
      ]
     },
     "execution_count": 19,
     "metadata": {},
     "output_type": "execute_result"
    }
   ],
   "source": [
    "\"\"\" 15. Create a program that removes all occurrences of a specific element from a list using a `for` loop.\n",
    "\"\"\"\n",
    "l=[1,2,3,4,5,6,7,8,9,2,5,2,6,8,2]\n",
    "remove_element=2\n",
    "for i in l:\n",
    "    if(i==remove_element):\n",
    "        l.remove(i)  #remove element using remove() method of list \n",
    "print(\"after removing all the occurrnece of 2 from the list \")\n",
    "l\n",
    "    \n"
   ]
  },
  {
   "cell_type": "code",
   "execution_count": 20,
   "id": "d11760cd-825c-494b-978e-637de2093d92",
   "metadata": {},
   "outputs": [
    {
     "name": "stdin",
     "output_type": "stream",
     "text": [
      "mention the number of table you want 5\n"
     ]
    },
    {
     "name": "stdout",
     "output_type": "stream",
     "text": [
      "1\n",
      "1\n",
      "2\n",
      "6\n",
      "24\n"
     ]
    }
   ],
   "source": [
    "\"\"\" 16. Develop a program that generates a multiplication table for numbers from 1 to 5 using a nested `for` loop.\n",
    "\"\"\"\n",
    "n=int(input(\"mention the number of table you want\"))\n",
    "for i in range(1,6):\n",
    "    mul=1\n",
    "    for j in range(1,i):\n",
    "        mul*=j\n",
    "    print(mul)  "
   ]
  },
  {
   "cell_type": "code",
   "execution_count": 24,
   "id": "2c110ba6-29ae-449e-8122-c1ac2bab0882",
   "metadata": {},
   "outputs": [
    {
     "name": "stdout",
     "output_type": "stream",
     "text": [
      "conversion of Fahrenheit temperature to Celsius \t 10.0\n",
      "conversion of Fahrenheit temperature to Celsius \t 31.666666666666668\n",
      "conversion of Fahrenheit temperature to Celsius \t 24.444444444444443\n",
      "conversion of Fahrenheit temperature to Celsius \t 32.22222222222222\n"
     ]
    }
   ],
   "source": [
    "\"\"\" 17. Write a program that converts a list of Fahrenheit temperatures to Celsius using a `for` loop.\n",
    "\"\"\"\n",
    "l=[50,89,76,90]  #list of temperature in fahenheit\n",
    "c=0\n",
    "for i in l:\n",
    "    c=(i - 32) * 5/9 #formula to convert Fahrenheit temperatures to Celsius\n",
    "    print(\"conversion of Fahrenheit temperature to Celsius \\t\",c)\n",
    "    "
   ]
  },
  {
   "cell_type": "code",
   "execution_count": 29,
   "id": "9a381dec-e69c-46a1-962f-3cc8af22f22a",
   "metadata": {},
   "outputs": [
    {
     "name": "stdout",
     "output_type": "stream",
     "text": [
      "common elements between two list is 2\n",
      "common elements between two list is 4\n",
      "common elements between two list is 7\n"
     ]
    }
   ],
   "source": [
    "\"\"\" 18. Create a program to print the common elements from two lists using a `for` loop.\n",
    "\"\"\"\n",
    "l1=[1,2,4,5,6,7]\n",
    "l2=[7,34,2,90,4,55,99]\n",
    "for i in l1:\n",
    "        if i in l2: #check if element of l1 is present in l2\n",
    "            print(\"common elements between two list is\", i)"
   ]
  },
  {
   "cell_type": "code",
   "execution_count": 2,
   "id": "db90f8a1-92da-4eba-b4c5-2517a5ec6433",
   "metadata": {},
   "outputs": [
    {
     "name": "stdout",
     "output_type": "stream",
     "text": [
      "program to print right angle trianle\n"
     ]
    },
    {
     "name": "stdin",
     "output_type": "stream",
     "text": [
      "enter the value of n , you want to make triangle for 5\n"
     ]
    },
    {
     "name": "stdout",
     "output_type": "stream",
     "text": [
      "* \n",
      "\n",
      "* * \n",
      "\n",
      "* * * \n",
      "\n",
      "* * * * \n",
      "\n",
      "* * * * * \n",
      "\n"
     ]
    }
   ],
   "source": [
    "\"\"\"19. Develop a program that prints the pattern of right-angled triangles using a `for` loop. Use ‘*’ to draw the \n",
    "pattern\"\"\"\n",
    "print(\"program to print right angle trianle\")\n",
    "n=int(input(\"enter the value of n , you want to make triangle for\"))\n",
    "for i in range(1,n+1):\n",
    "    for j in range(1,i+1):\n",
    "        print(\"*\",end=\" \")  #add end parameter with print() statements to specifie print statement should ends with space.\n",
    "    print(\"\\n\")\n",
    "    "
   ]
  },
  {
   "cell_type": "code",
   "execution_count": 5,
   "id": "2b3528b1-67a1-4371-8090-0fc0093597e1",
   "metadata": {},
   "outputs": [
    {
     "name": "stdin",
     "output_type": "stream",
     "text": [
      "enter the value of number 1 12\n",
      "enter the value of number 2 20\n"
     ]
    },
    {
     "name": "stdout",
     "output_type": "stream",
     "text": [
      "gcd of two numbers is 4\n"
     ]
    }
   ],
   "source": [
    "\"\"\" 20. Write a program to find the greatest common divisor (GCD) of two numbers using a `for` loop.\n",
    "\"\"\"\n",
    "n1=int(input(\"enter the value of number 1\")) \n",
    "n2=int(input(\"enter the value of number 2\"))\n",
    "for i in range(1,max(n1,n2)+1): #traverse the loop with range 1 to max value from n1 and n2\n",
    "    if(n1%i==0 and n2%i==0): #if n1 and n2 is divisible with i then it will be common divisior of n1 and n2\n",
    "        gcd=i\n",
    "print(\"gcd of two numbers is\",gcd)"
   ]
  },
  {
   "cell_type": "markdown",
   "id": "3d34f3d2-d69d-48b4-9896-23c2d516cbe9",
   "metadata": {},
   "source": [
    " Advanced Level:"
   ]
  },
  {
   "cell_type": "code",
   "execution_count": 17,
   "id": "73c69704-2521-410e-a89f-74926d18f635",
   "metadata": {},
   "outputs": [
    {
     "name": "stdout",
     "output_type": "stream",
     "text": [
      "the addition of the numbers of the list is 459\n"
     ]
    }
   ],
   "source": [
    "\"\"\" 21. Create a program that calculates the sum of the digits of numbers in a list using a list comprehension.\n",
    "\"\"\"\n",
    "l=[12,56,99,90,78,56,43,25]\n",
    "total=0\n",
    "list_comprehension= [ total:=total+i  for i in l ]  #addition with list comprenhsion\n",
    "print(\"the addition of the numbers of the list is\",total)"
   ]
  },
  {
   "cell_type": "code",
   "execution_count": 2,
   "id": "3538b62c-8ccc-49a0-9400-fa37b51552ee",
   "metadata": {},
   "outputs": [
    {
     "name": "stdin",
     "output_type": "stream",
     "text": [
      "Enter a number:  255\n"
     ]
    },
    {
     "name": "stdout",
     "output_type": "stream",
     "text": [
      "Prime factors of 255 are: [3, 5, 17]\n"
     ]
    }
   ],
   "source": [
    "\"\"\" 22. Write a program to find the prime factors of a given number using a `for` loop and list comprehension.\n",
    "\"\"\"\n",
    "def prime_factors(n):\n",
    "    factors = [i for i in range(2, n+1) if n % i == 0]\n",
    "    prime_factors = [i for i in factors if all(i % j != 0 for j in range(2, i))]\n",
    "    return prime_factors\n",
    "\n",
    "# Input number\n",
    "number = int(input(\"Enter a number: \"))\n",
    "\n",
    "# Finding prime factors\n",
    "factors = prime_factors(number)\n",
    "\n",
    "# Output prime factors\n",
    "print(\"Prime factors of\", number, \"are:\", factors)\n",
    "\n"
   ]
  },
  {
   "cell_type": "code",
   "execution_count": 35,
   "id": "eb1a4d11-d028-4b95-820d-dc73c31bf35d",
   "metadata": {},
   "outputs": [
    {
     "data": {
      "text/plain": [
       "[1, 4, 3, 8, 9]"
      ]
     },
     "execution_count": 35,
     "metadata": {},
     "output_type": "execute_result"
    }
   ],
   "source": [
    "\"\"\"23. Develop a program that extracts unique elements from a list and stores them in a new list using a list \n",
    "comprehension.\"\"\"\n",
    "l=[1,2,4,2,5,3,8,2,5,9]\n",
    "unique_list=[ i for i in l if(l.count(i)==1)]  #unique elements are those who have their count value ==1 \n",
    "unique_list\n"
   ]
  },
  {
   "cell_type": "code",
   "execution_count": 18,
   "id": "bf5ec9c8-6156-48bb-bbef-c413ad25e9d1",
   "metadata": {},
   "outputs": [
    {
     "name": "stdout",
     "output_type": "stream",
     "text": [
      "palindromic number from 1 to 100 is \n",
      " [1, 2, 3, 4, 5, 6, 7, 8, 9, 11, 22, 33, 44, 55, 66, 77, 88, 99]\n"
     ]
    }
   ],
   "source": [
    "\"\"\"24. Create a program that generates a list of all palindromic numbers up to a specified limit using a list \n",
    "comprehension.\"\"\"\n",
    "\n",
    "#function for reversing the digit \n",
    "def reverse(n):\n",
    "    d,rev=0,0\n",
    "    while(n>0):\n",
    "        d=n%10\n",
    "        rev=rev*10 + d\n",
    "        n=n//10\n",
    "    return rev\n",
    "\n",
    "#list comprehension for generating palindromic number which use reverse function for cheching wether the number is palindromic or not \n",
    "palindromic_list = [  i for i in range(1,101) if(i==reverse(i))]\n",
    "print(\"palindromic number from 1 to 100 is \\n\", palindromic_list)\n"
   ]
  },
  {
   "cell_type": "code",
   "execution_count": 4,
   "id": "3bf06679-e663-4ebc-976a-29b9197bef1a",
   "metadata": {},
   "outputs": [
    {
     "data": {
      "text/plain": [
       "[35, 89, 87, 90, 98, 95]"
      ]
     },
     "execution_count": 4,
     "metadata": {},
     "output_type": "execute_result"
    }
   ],
   "source": [
    "\"\"\" 25. Write a program to flatten a nested list using list comprehension.\n",
    "\"\"\"\n",
    "l=[[35,89,87],[90,98,95]]\n",
    "flatten_list=[j for i in l for j in i]\n",
    "flatten_list"
   ]
  },
  {
   "cell_type": "code",
   "execution_count": 18,
   "id": "9a479a0f-e618-4b62-8b2a-b0fc6198b63b",
   "metadata": {},
   "outputs": [
    {
     "name": "stdout",
     "output_type": "stream",
     "text": [
      "sum of even number  is  30\n",
      "sum of odd number  is 25\n"
     ]
    }
   ],
   "source": [
    "\"\"\" 26. Develop a program that computes the sum of even and odd numbers in a list separately using list\n",
    "comprehension\"\"\"\n",
    "l=[1,2,3,4,5,6,7,8,9,10]\n",
    "add,sub=0,0\n",
    "even_list= [i for i in l if(i%2==0)] #separate the even numbers from the list \n",
    "print(\"sum of even number  is \",sum(even_list))\n",
    "odd_list=[ i  for i in l if(i%2!=0)] #separate the odd numbers from the list \n",
    "print(\"sum of odd number  is\", sum(odd_list))\n"
   ]
  },
  {
   "cell_type": "code",
   "execution_count": 1,
   "id": "0e1fc5bc-f46d-445c-a56b-00074bd034d0",
   "metadata": {},
   "outputs": [
    {
     "name": "stdout",
     "output_type": "stream",
     "text": [
      "square of odd number list is  \n",
      "  [1, 9, 25, 49, 81]\n"
     ]
    }
   ],
   "source": [
    "\"\"\" 27. Create a program that generates a list of squares of odd numbers between 1 and 10 using list \n",
    "comprehension\"\"\"\n",
    "odd_square_list=[ i**2 for i in range(1,11) if(i%2!=0)]  #select odd numbers and then apply square on that number within list comprehension\n",
    "print(\"square of odd number list is  \\n \", odd_square_list)"
   ]
  },
  {
   "cell_type": "code",
   "execution_count": 13,
   "id": "95dad87e-e81c-4975-972e-47a5169fa5b1",
   "metadata": {},
   "outputs": [
    {
     "data": {
      "text/plain": [
       "{1: 'hello', 2: 'krishna', 3: 'welcome'}"
      ]
     },
     "execution_count": 13,
     "metadata": {},
     "output_type": "execute_result"
    }
   ],
   "source": [
    "\"\"\" 28. Write a program that combines two lists into a dictionary using list comprehension.\n",
    "\"\"\"\n",
    "l1=[1,2,3]\n",
    "l2=[\"hello\",\"krishna\",\"welcome\"]\n",
    "combine_dict= {l1[i]:l2[i]   for i in range(0,3)}  #combining dictionary with list comprehension\n",
    "combine_dict"
   ]
  },
  {
   "cell_type": "code",
   "execution_count": 3,
   "id": "4ed9a754-ca5e-4004-98e5-eaea6a4f7ce8",
   "metadata": {},
   "outputs": [
    {
     "name": "stdout",
     "output_type": "stream",
     "text": [
      "the new list of vowels is  ['e', 'o', 'i', 'a']\n"
     ]
    }
   ],
   "source": [
    "\"\"\" 29. Develop a program that extracts the vowels from a string and stores them in a list using list comprehension.\n",
    "\"\"\"\n",
    "s=\"hello krishna\"\n",
    "new_list=[  i for i in s  if(i in 'aeiou')]\n",
    "print(\"the new list of vowels is \",new_list)"
   ]
  },
  {
   "cell_type": "code",
   "execution_count": 6,
   "id": "bb535ea3-aa99-49a0-9aa4-f3e48619e653",
   "metadata": {},
   "outputs": [
    {
     "data": {
      "text/plain": [
       "['hello', 'krishna', 'welcome', 'to', 'pwskills', ('k', 'r')]"
      ]
     },
     "execution_count": 6,
     "metadata": {},
     "output_type": "execute_result"
    }
   ],
   "source": [
    "\"\"\" 30. Create a program that removes all non-numeric characters from a list of strings using list comprehension.\n",
    "\"\"\"\n",
    "l=[\"hello\" , 55,\"krishna\",7,\"welcome\", \"to\",\"pwskills\",98,('k','r')]\n",
    "new_list=[ i  for i in l  if(type(i)!=int)]  #extracting non numberic from the list \n",
    "new_list"
   ]
  },
  {
   "cell_type": "code",
   "execution_count": 15,
   "id": "06324a30-7f0a-433e-aa33-23d185f323f5",
   "metadata": {},
   "outputs": [
    {
     "name": "stdin",
     "output_type": "stream",
     "text": [
      "enter the limit upto which you want to get prime number 20\n"
     ]
    },
    {
     "name": "stdout",
     "output_type": "stream",
     "text": [
      "[2, 3, 5, 7, 11, 13, 17, 19]\n"
     ]
    }
   ],
   "source": [
    "\"\"\" 31. Write a program to generate a list of prime numbers using the Sieve of Eratosthenes algorithm and list \n",
    "comprehension\"\"\"  \n",
    "#without list comprehension \n",
    "\"\"\"n= int(input(\"enter n to which you want prime number  \"))\n",
    "def isprime(n):\n",
    "    non_prime_list=[]\n",
    "    for i in range(2,n+1):\n",
    "        if i not in non_prime_list:\n",
    "            return i\n",
    "        for j in range(i*i, n+1,i):\n",
    "            non_prime_list.append(j) \"\"\"\n",
    "\n",
    "# Sieve of Eratosthenes algorithm with list comprehension\n",
    "def sieve_of_eratosthenes(limit):\n",
    "    primes = [True] * (limit + 1)\n",
    "    primes[0], primes[1] = False, False  # 0 and 1 are not prime numbers\n",
    "\n",
    "    # Mark multiples as not prime\n",
    "    for i in range(2, int(limit**0.5) + 1):\n",
    "        primes[i*i:limit+1:i] = [False] * len(primes[i*i:limit+1:i])\n",
    "\n",
    "    # Generate list of prime numbers using list comprehension\n",
    "    prime_numbers = [num for num, is_prime in enumerate(primes) if is_prime]\n",
    "\n",
    "    return prime_numbers\n",
    "limit=int(input(\"enter the limit upto which you want to get prime number\"))\n",
    "# Generate and print the list of prime numbers up to the specified limit\n",
    "print(sieve_of_eratosthenes(limit))\n"
   ]
  },
  {
   "cell_type": "code",
   "execution_count": 13,
   "id": "5e4540df-c5a1-41bd-af6d-c808cce42252",
   "metadata": {},
   "outputs": [
    {
     "data": {
      "text/plain": [
       "[(3, 4, 5), (5, 12, 13), (6, 8, 10), (8, 15, 17), (9, 12, 15), (12, 16, 20)]"
      ]
     },
     "execution_count": 13,
     "metadata": {},
     "output_type": "execute_result"
    }
   ],
   "source": [
    "\"\"\"32. Create a program that generates a list of all Pythagorean triplets up to a specified limit using list \n",
    "comprehension.\"\"\"\n",
    "n=20\n",
    "pythagoras_list=[ (a , b , c)   for a in range(1,n+1) for b in range(a,n+1) for c in range(b,n+1) if(a**2 + b**2 == c**2) ]\n",
    "pythagoras_list\n",
    " \n",
    "#without list comprehnsion \n",
    "#n=20\n",
    "#for a in range(1, n+1):\n",
    "#   for b in range(a, n+1):\n",
    " #       for c in range(b,n+1):\n",
    "  #           if( a**2 + b**2 == c**2):\n",
    "   #             print( a , b , c)"
   ]
  },
  {
   "cell_type": "code",
   "execution_count": 1,
   "id": "a9ddfe5d-69a9-4bc2-8f21-605f79724ca3",
   "metadata": {},
   "outputs": [
    {
     "data": {
      "text/plain": [
       "[('a', 1),\n",
       " ('a', 2),\n",
       " ('a', 3),\n",
       " ('b', 1),\n",
       " ('b', 2),\n",
       " ('b', 3),\n",
       " ('c', 1),\n",
       " ('c', 2),\n",
       " ('c', 3)]"
      ]
     },
     "execution_count": 1,
     "metadata": {},
     "output_type": "execute_result"
    }
   ],
   "source": [
    "\"\"\" 33. Develop a program that generates a list of all possible combinations of two lists using list comprehension.\n",
    "\"\"\"\n",
    "list1=['a','b','c']\n",
    "list2=[1,2,3]\n",
    "combined_list=[(i,j)  for i in list1 for j in list2]\n",
    "combined_list"
   ]
  },
  {
   "cell_type": "code",
   "execution_count": 38,
   "id": "3f4a2d5c-2bda-45ed-9377-c976bad84755",
   "metadata": {},
   "outputs": [
    {
     "name": "stdout",
     "output_type": "stream",
     "text": [
      "the mean of the list elements are  30.0\n",
      "the median of the elements of the list is  30\n",
      "the mode of the list is  10\n"
     ]
    }
   ],
   "source": [
    "\"\"\" 34. Write a program that calculates the mean, median, and mode of a list of numbers using list \n",
    "comprehension\"\"\"\n",
    "l=[10,20,30,40,50]\n",
    "n=5\n",
    "add=0\n",
    "maximium=1\n",
    "#mean\n",
    "mean_list=[add:=add+i for i in l] #addition of all the numbers from the list \n",
    "mean=mean_list[4]/5 #dividing last element that is total of elements of the list by total elements presnet in the list \n",
    "print(\"the mean of the list elements are \", mean)\n",
    "\n",
    "#median\n",
    "if(n%2==0):  #if n that is total number of elements in list is even then apply respective formula\n",
    "    median=(l[n/2] + l[n/2 + 1])/2\n",
    "else:  #if n is odd then apply below formula \n",
    "    median= l[int(n/2)]\n",
    "print(\"the median of the elements of the list is \", median)\n",
    "\n",
    "#mode\n",
    "for i in l:\n",
    "    if(l.count(i)>=maximium):  #find most occuring elements in the list \n",
    "        maximium=i\n",
    "print(\"the mode of the list is \", maximium)"
   ]
  },
  {
   "cell_type": "code",
   "execution_count": 21,
   "id": "53d1db14-376e-4dff-9d5e-30f6c59d3e8e",
   "metadata": {},
   "outputs": [
    {
     "name": "stdin",
     "output_type": "stream",
     "text": [
      "enter the number of rows you want 5\n"
     ]
    },
    {
     "name": "stdout",
     "output_type": "stream",
     "text": [
      "    1  \n",
      "   1 1  \n",
      "  1 2 1  \n",
      " 1 3 3 1  \n",
      "1 4 6 4 1  \n"
     ]
    }
   ],
   "source": [
    "\"\"\" 35. Create a program that generates Pascal's triangle up to a specified number of rows using list \n",
    "comprehension.\"\"\"\n",
    "from math import factorial\n",
    "rows=int(input(\"enter the number of rows you want\"))\n",
    "for n in range(rows):\n",
    "    for space in range(1, rows-n):\n",
    "        print(end=' ')\n",
    "    for r in range(n+1):\n",
    "        ncr=factorial(n) // ( factorial(r) * factorial(n-r) )\n",
    "        print(ncr, end=' ')\n",
    "    print(' ')"
   ]
  },
  {
   "cell_type": "code",
   "execution_count": 13,
   "id": "acddc2cb-dd4c-43fd-a4af-c736ebaeab65",
   "metadata": {},
   "outputs": [
    {
     "name": "stdout",
     "output_type": "stream",
     "text": [
      "[1, 2, 6, 24, 120]\n",
      "the sum of the digits of factorial is  153\n"
     ]
    }
   ],
   "source": [
    "\"\"\"36. Develop a program that calculates the sum of the digits of a factorial of numbers from 1 to 5 using list \n",
    "comprehension\"\"\"\n",
    "\n",
    "#without list comprehension\n",
    "#l=[]\n",
    "#for i in range(1,6):\n",
    " #   fact=1\n",
    "  #  for j in range(1,i+1):\n",
    "   #     fact=fact*j\n",
    "    #l.append(fact)\n",
    "#print(l)\n",
    "\n",
    "\n",
    "#with list comprehension\n",
    "def factorial_number(n):\n",
    "    if(n<2):\n",
    "        return n\n",
    "    else:\n",
    "        return n* factorial_number(n-1)\n",
    "l=[factorial_number(i) for i in range(1,6)]\n",
    "print(l)\n",
    "print(\"the sum of the digits of factorial is \", sum(l))"
   ]
  },
  {
   "cell_type": "code",
   "execution_count": 49,
   "id": "e628b347-d2aa-41e5-a151-9b8b624a1097",
   "metadata": {},
   "outputs": [
    {
     "name": "stdout",
     "output_type": "stream",
     "text": [
      "the longest word from the sentence is  pwskills\n"
     ]
    }
   ],
   "source": [
    "\"\"\" 37. Write a program that finds the longest word in a sentence using list comprehension.\n",
    "\"\"\"\n",
    "s=\"hello i am krishna studing data science from pwskills\"\n",
    "new_list=s.split(\" \")\n",
    "l=[len(i)  for i in new_list]\n",
    "print(\"the longest word from the sentence is \",new_list[max(l)] )\n",
    "\n",
    "\n",
    "#without list comprehension \n",
    "#max_length=0\n",
    "#longest=\"\"\n",
    "#for i in new_list:\n",
    " #   if(len(i)>max_length):\n",
    "  #      max_length=len(i)\n",
    "   #     longest=i\n",
    "#print(\"lognest word is \", longest , \"which is having length of \", max_length)\n"
   ]
  },
  {
   "cell_type": "code",
   "execution_count": 58,
   "id": "e41aabf5-bbab-430b-8167-c6d10147b875",
   "metadata": {},
   "outputs": [
    {
     "name": "stdout",
     "output_type": "stream",
     "text": [
      "list in which string have vowels 3 or more \n",
      "  ['agape', 'agape', 'tiarae', 'tiarae']\n"
     ]
    }
   ],
   "source": [
    "\"\"\" 38. Create a program that filters a list of strings to include only those with more than three vowels using list \n",
    "comprehension.\"\"\"\n",
    "l=[\"agape\",\"hello\",\"krishna\",\"olive\",\"tiarae\",\"auloi\"]\n",
    "s=[]\n",
    "\n",
    "for i in l:\n",
    "    z=0  #variable for counting number of vowels, z will store total number of vowels of word\n",
    "    for j in i:\n",
    "        if(j in \"aeiou\"):\n",
    "            z+=1\n",
    "    s.append(z)\n",
    "filter_list=[l[s.index(i)]  for i in s  if(i>=3)]        \n",
    "print(\"list in which string have vowels 3 or more \\n \",filter_list)    \n",
    "    \n"
   ]
  },
  {
   "cell_type": "code",
   "execution_count": 66,
   "id": "2778c35e-88c4-4527-8588-19eb8ca3e7fe",
   "metadata": {},
   "outputs": [
    {
     "name": "stdout",
     "output_type": "stream",
     "text": [
      "sum of the digits of number from 1 to 1000 is  500500\n"
     ]
    }
   ],
   "source": [
    "\"\"\" 39. Develop a program that calculates the sum of the digits of numbers from 1 to 1000 using list \n",
    "comprehension\"\"\"\n",
    "add=0\n",
    "addition=[i  for i in range(1,1001)]\n",
    "print(\"sum of the digits of number from 1 to 1000 is \",sum(addition))"
   ]
  },
  {
   "cell_type": "code",
   "execution_count": 10,
   "id": "a33b05c1-ddcf-452f-bc83-78c68b400967",
   "metadata": {},
   "outputs": [
    {
     "name": "stdout",
     "output_type": "stream",
     "text": [
      "prime palindromic number from range 1 to 1000 \n",
      " [2, 3, 5, 7, 11, 101, 131, 151, 181, 191, 313, 353, 373, 383, 727, 757, 787, 797, 919, 929]\n"
     ]
    }
   ],
   "source": [
    "\"\"\" 40. Write a program that generates a list of prime palindromic numbers using list comprehension.\n",
    "\"\"\"\n",
    "#code for generating prime number from range 1 to 1000\n",
    "n=1000\n",
    "not_prime=[] \n",
    "prime=[]\n",
    "for i in range(2,n+1):\n",
    "    if(i not in not_prime):\n",
    "        prime.append(i)\n",
    "    for j in range(i*i , n+1, i):\n",
    "            not_prime.append(j)\n",
    "            \n",
    "#creating function for reversing the digit \n",
    "def reverse(n):\n",
    "    d,rev=0,0\n",
    "    while(n>0):\n",
    "        d=n%10\n",
    "        rev=rev*10 + d\n",
    "        n=n//10\n",
    "    return rev \n",
    "\n",
    "#generating list for prime palindromic numbers from range 1 to 1000\n",
    "prime_palindromic=[ i   for i in prime if(i==reverse(i))]\n",
    "print(\"prime palindromic number from range 1 to 1000 \\n\",prime_palindromic)    \n"
   ]
  },
  {
   "cell_type": "code",
   "execution_count": null,
   "id": "1edd90f2-b227-4dd6-a0d5-a0d7fd10b3ef",
   "metadata": {},
   "outputs": [],
   "source": []
  }
 ],
 "metadata": {
  "kernelspec": {
   "display_name": "Python 3 (ipykernel)",
   "language": "python",
   "name": "python3"
  },
  "language_info": {
   "codemirror_mode": {
    "name": "ipython",
    "version": 3
   },
   "file_extension": ".py",
   "mimetype": "text/x-python",
   "name": "python",
   "nbconvert_exporter": "python",
   "pygments_lexer": "ipython3",
   "version": "3.10.8"
  }
 },
 "nbformat": 4,
 "nbformat_minor": 5
}
